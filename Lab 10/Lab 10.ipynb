{
  "nbformat": 4,
  "nbformat_minor": 0,
  "metadata": {
    "colab": {
      "name": "Lab 10",
      "provenance": [],
      "collapsed_sections": [
        "gzoLb0-f16Ff",
        "81AAbZQUjSYz",
        "nfzpK9v2cd3Y"
      ]
    },
    "kernelspec": {
      "name": "python3",
      "display_name": "Python 3"
    },
    "language_info": {
      "name": "python"
    }
  },
  "cells": [
    {
      "cell_type": "markdown",
      "source": [
        "# Imports "
      ],
      "metadata": {
        "id": "u1dxUTDtigaV"
      }
    },
    {
      "cell_type": "code",
      "source": [
        "import numpy as np\n",
        "import cmath\n",
        "import matplotlib.pyplot as plt\n",
        "import matplotlib.image as mpimg \n",
        "from scipy.fft import dct, idct\n",
        "import scipy.sparse.linalg\n",
        "import numpy as np\n",
        "import pickle as pkl\n",
        "from PIL import Image as im "
      ],
      "metadata": {
        "id": "yRFqGi7misHg"
      },
      "execution_count": null,
      "outputs": []
    },
    {
      "cell_type": "markdown",
      "source": [
        "# Data Imports"
      ],
      "metadata": {
        "id": "gzoLb0-f16Ff"
      }
    },
    {
      "cell_type": "code",
      "source": [
        "# %%capture\n",
        "!pip install -U gdown scipy\n",
        "!gdown 1mTtEMU0QhCBucJPQsveBnZzf_e_03DTj\n",
        "!unzip -o lab10data.zip"
      ],
      "metadata": {
        "id": "-hrZoJaE19W3",
        "colab": {
          "base_uri": "https://localhost:8080/"
        },
        "outputId": "b0f493fd-4f62-4fd0-b1b9-bb358dfd3d29"
      },
      "execution_count": null,
      "outputs": [
        {
          "output_type": "stream",
          "name": "stdout",
          "text": [
            "Requirement already satisfied: gdown in /usr/local/lib/python3.7/dist-packages (4.2.2)\n",
            "Collecting gdown\n",
            "  Downloading gdown-4.4.0.tar.gz (14 kB)\n",
            "  Installing build dependencies ... \u001b[?25l\u001b[?25hdone\n",
            "  Getting requirements to build wheel ... \u001b[?25l\u001b[?25hdone\n",
            "    Preparing wheel metadata ... \u001b[?25l\u001b[?25hdone\n",
            "Requirement already satisfied: scipy in /usr/local/lib/python3.7/dist-packages (1.4.1)\n",
            "Collecting scipy\n",
            "  Downloading scipy-1.7.3-cp37-cp37m-manylinux_2_12_x86_64.manylinux2010_x86_64.whl (38.1 MB)\n",
            "\u001b[K     |████████████████████████████████| 38.1 MB 1.3 MB/s \n",
            "\u001b[?25hRequirement already satisfied: beautifulsoup4 in /usr/local/lib/python3.7/dist-packages (from gdown) (4.6.3)\n",
            "Requirement already satisfied: six in /usr/local/lib/python3.7/dist-packages (from gdown) (1.15.0)\n",
            "Requirement already satisfied: filelock in /usr/local/lib/python3.7/dist-packages (from gdown) (3.6.0)\n",
            "Requirement already satisfied: tqdm in /usr/local/lib/python3.7/dist-packages (from gdown) (4.63.0)\n",
            "Requirement already satisfied: requests[socks] in /usr/local/lib/python3.7/dist-packages (from gdown) (2.23.0)\n",
            "Requirement already satisfied: numpy<1.23.0,>=1.16.5 in /usr/local/lib/python3.7/dist-packages (from scipy) (1.21.5)\n",
            "Requirement already satisfied: urllib3!=1.25.0,!=1.25.1,<1.26,>=1.21.1 in /usr/local/lib/python3.7/dist-packages (from requests[socks]->gdown) (1.24.3)\n",
            "Requirement already satisfied: chardet<4,>=3.0.2 in /usr/local/lib/python3.7/dist-packages (from requests[socks]->gdown) (3.0.4)\n",
            "Requirement already satisfied: certifi>=2017.4.17 in /usr/local/lib/python3.7/dist-packages (from requests[socks]->gdown) (2021.10.8)\n",
            "Requirement already satisfied: idna<3,>=2.5 in /usr/local/lib/python3.7/dist-packages (from requests[socks]->gdown) (2.10)\n",
            "Requirement already satisfied: PySocks!=1.5.7,>=1.5.6 in /usr/local/lib/python3.7/dist-packages (from requests[socks]->gdown) (1.7.1)\n",
            "Building wheels for collected packages: gdown\n",
            "  Building wheel for gdown (PEP 517) ... \u001b[?25l\u001b[?25hdone\n",
            "  Created wheel for gdown: filename=gdown-4.4.0-py3-none-any.whl size=14774 sha256=e7c0479cec389b2254510f32c74c0f3dd651d240353d782133043aa2081986e6\n",
            "  Stored in directory: /root/.cache/pip/wheels/fb/c3/0e/c4d8ff8bfcb0461afff199471449f642179b74968c15b7a69c\n",
            "Successfully built gdown\n",
            "Installing collected packages: scipy, gdown\n",
            "  Attempting uninstall: scipy\n",
            "    Found existing installation: scipy 1.4.1\n",
            "    Uninstalling scipy-1.4.1:\n",
            "      Successfully uninstalled scipy-1.4.1\n",
            "  Attempting uninstall: gdown\n",
            "    Found existing installation: gdown 4.2.2\n",
            "    Uninstalling gdown-4.2.2:\n",
            "      Successfully uninstalled gdown-4.2.2\n",
            "\u001b[31mERROR: pip's dependency resolver does not currently take into account all the packages that are installed. This behaviour is the source of the following dependency conflicts.\n",
            "albumentations 0.1.12 requires imgaug<0.2.7,>=0.2.5, but you have imgaug 0.2.9 which is incompatible.\u001b[0m\n",
            "Successfully installed gdown-4.4.0 scipy-1.7.3\n"
          ]
        },
        {
          "output_type": "display_data",
          "data": {
            "application/vnd.colab-display-data+json": {
              "pip_warning": {
                "packages": [
                  "scipy"
                ]
              }
            }
          },
          "metadata": {}
        },
        {
          "output_type": "stream",
          "name": "stdout",
          "text": [
            "Downloading...\n",
            "From: https://drive.google.com/uc?id=1mTtEMU0QhCBucJPQsveBnZzf_e_03DTj\n",
            "To: /content/lab10data.zip\n",
            "100% 445M/445M [00:02<00:00, 164MB/s]\n",
            "Archive:  lab10data.zip\n",
            "  inflating: lab10data/lab10data.pkl  \n",
            "  inflating: lab10data/README.txt    \n"
          ]
        }
      ]
    },
    {
      "cell_type": "markdown",
      "source": [
        "# Section 1.1"
      ],
      "metadata": {
        "id": "81AAbZQUjSYz"
      }
    },
    {
      "cell_type": "code",
      "source": [
        "class K_eigenvectors():\n",
        "  def __init__(self, X, K):\n",
        "    self.X = X\n",
        "    self.K = K\n",
        "  \n",
        "  def solve(self):\n",
        "    L, V = scipy.sparse.linalg.eigs(self.X, k=self.K)\n",
        "    return V[:, 0:self.K]"
      ],
      "metadata": {
        "id": "bM5Epl-cjQ3X"
      },
      "execution_count": null,
      "outputs": []
    },
    {
      "cell_type": "code",
      "source": [
        "dictionary = pkl.load(open('lab10data/lab10data.pkl', 'rb'))\n",
        "faces = dictionary['faces']\n",
        "mu = dictionary['mu']\n",
        "sigma = dictionary['sigma']\n",
        "\n",
        "K = 20\n",
        "\n",
        "eig_obj = K_eigenvectors(sigma, K)\n",
        "K_eig = eig_obj.solve()\n",
        "print('Unitary Check: ', np.allclose(np.eye(K), np.matmul(np.conj(np.transpose(K_eig)), K_eig)))"
      ],
      "metadata": {
        "id": "riKHlvTl2DFm",
        "colab": {
          "base_uri": "https://localhost:8080/"
        },
        "outputId": "91d21b7f-f177-4a90-9dff-eba500ae8651"
      },
      "execution_count": null,
      "outputs": [
        {
          "output_type": "stream",
          "name": "stdout",
          "text": [
            "Unitary Check:  True\n"
          ]
        }
      ]
    },
    {
      "cell_type": "markdown",
      "source": [
        "# Section 1.2"
      ],
      "metadata": {
        "id": "nfzpK9v2cd3Y"
      }
    },
    {
      "cell_type": "code",
      "source": [
        "# roll eigenvectors back into 2D array (image) \n",
        "\n",
        "class EigenfaceDecomposition(): \n",
        "  def __init__(self, face, mu, eigenfaces):\n",
        "    self.x = np.ravel(face, 'F')   # return 1D array (eigenface)\n",
        "    self.mu = np.ravel(mu, 'F')    # mean face\n",
        "    self.V = eigenfaces\n",
        "\n",
        "  def solve(self):\n",
        "    return np.matmul(np.conj(np.transpose(self.V)), self.x-self.mu)\n",
        "\n",
        "# test EigenfaceDecomposition\n",
        "face_idx = 20\n",
        "\n",
        "eigendec_obj = EigenfaceDecomposition(faces[:,:,face_idx], mu, K_eig)\n",
        "coefficients = eigendec_obj.solve()\n",
        "print('The coefficients of the ', K, ' principal components are:', coefficients)"
      ],
      "metadata": {
        "id": "vScu3ww9cfIb",
        "colab": {
          "base_uri": "https://localhost:8080/"
        },
        "outputId": "24c6249f-6971-43f4-f412-828adbc08851"
      },
      "execution_count": null,
      "outputs": [
        {
          "output_type": "stream",
          "name": "stdout",
          "text": [
            "The coefficients of the  20  principal components are: [ 1917.20199986+0.j  -106.14949791+0.j  -291.25158972+0.j\n",
            " -1034.52646364+0.j  -185.66734993+0.j    -2.94147084+0.j\n",
            "  -648.8307638 +0.j  -490.77873374+0.j   299.87449754+0.j\n",
            "  -510.2305514 +0.j   467.52796913+0.j    20.46434852+0.j\n",
            "  -444.77503753+0.j  -264.55116393+0.j  -191.8209542 +0.j\n",
            "   245.24374973+0.j  -465.1702159 +0.j   258.76446606+0.j\n",
            "   503.40083191+0.j    36.73798832+0.j]\n"
          ]
        }
      ]
    },
    {
      "cell_type": "markdown",
      "source": [
        "# Section 2.1"
      ],
      "metadata": {
        "id": "LU_TRSFVOGPx"
      }
    },
    {
      "cell_type": "code",
      "source": [
        "class Reconstruction():\n",
        "  def __init__(self, mu, eigens, coeff):\n",
        "    self.mu = np.ravel(mu, 'F')\n",
        "    self.K = eigens.shape[1]\n",
        "    self.V = eigens\n",
        "    self.w = coeff\n",
        "  \n",
        "  def solve(self):\n",
        "    return np.transpose((np.abs(np.matmul(self.V,self.w) + self.mu)).reshape((92, 112)))"
      ],
      "metadata": {
        "id": "p9aNcXDIOJDO"
      },
      "execution_count": null,
      "outputs": []
    },
    {
      "cell_type": "code",
      "source": [
        "Ks = [20, 5, 25, 50]\n",
        "\n",
        "for K in Ks:\n",
        "  eig_obj = K_eigenvectors(sigma, K)\n",
        "  K_eig = eig_obj.solve()\n",
        "  print('Unitary Check: ', np.allclose(np.eye(K), np.matmul(np.conj(np.transpose(K_eig)), K_eig)))\n",
        "\n",
        "  og_face = faces[:,:,face_idx]\n",
        "\n",
        "  eigendec_obj = EigenfaceDecomposition(og_face, mu, K_eig)\n",
        "  coefficients = eigendec_obj.solve()\n",
        "  # print('The coefficients of the ', K, ' principal components are:', coefficients)\n",
        "\n",
        "  recon_obj = Reconstruction(mu, K_eig, coefficients)\n",
        "  recon_face = recon_obj.solve()\n",
        "\n",
        "  image = im.fromarray(og_face.astype(np.uint8), mode='L')\n",
        "  display(image)\n",
        "  # image.show()\n",
        "  # image.save(\"original.png\")\n",
        "\n",
        "  recon_image = im.fromarray(recon_face.astype(np.uint8), mode='L')\n",
        "  display(recon_image)\n",
        "  # recon_image.show()\n",
        "  # recon_image.save(\"recon.png\")"
      ],
      "metadata": {
        "colab": {
          "base_uri": "https://localhost:8080/",
          "height": 1000
        },
        "id": "itmzG-ZzkaD1",
        "outputId": "2014d91e-2330-48e4-cac7-f3c27e47e2da"
      },
      "execution_count": null,
      "outputs": [
        {
          "output_type": "stream",
          "name": "stdout",
          "text": [
            "Unitary Check:  True\n"
          ]
        },
        {
          "output_type": "display_data",
          "data": {
            "text/plain": [
              "<PIL.Image.Image image mode=L size=92x112 at 0x7F6745054F10>"
            ],
            "image/png": "[encoded data removed]"
          },
          "metadata": {}
        },
        {
          "output_type": "display_data",
          "data": {
            "text/plain": [
              "<PIL.Image.Image image mode=L size=92x112 at 0x7F6745054D50>"
            ],
            "image/png": "[encoded data removed]"
          },
          "metadata": {}
        },
        {
          "output_type": "stream",
          "name": "stdout",
          "text": [
            "Error energy:  3012337.72513346\n",
            "Error energy for K = 0:  10022785.089375002\n",
            "Error reduction:  0.69945103099868\n",
            "Unitary Check:  True\n"
          ]
        },
        {
          "output_type": "display_data",
          "data": {
            "text/plain": [
              "<PIL.Image.Image image mode=L size=92x112 at 0x7F6745006D10>"
            ],
            "image/png": "[encoded data removed]"
          },
          "metadata": {}
        },
        {
          "output_type": "display_data",
          "data": {
            "text/plain": [
              "<PIL.Image.Image image mode=L size=92x112 at 0x7F6745054E90>"
            ],
            "image/png": "[encoded data removed]"
          },
          "metadata": {}
        },
        {
          "output_type": "stream",
          "name": "stdout",
          "text": [
            "Error energy:  5146309.007875408\n",
            "Error energy for K = 0:  10022785.089375002\n",
            "Error reduction:  0.4865390246338885\n",
            "Unitary Check:  True\n"
          ]
        },
        {
          "output_type": "display_data",
          "data": {
            "text/plain": [
              "<PIL.Image.Image image mode=L size=92x112 at 0x7F6745006490>"
            ],
            "image/png": "[encoded data removed]"
          },
          "metadata": {}
        },
        {
          "output_type": "display_data",
          "data": {
            "text/plain": [
              "<PIL.Image.Image image mode=L size=92x112 at 0x7F674508FAD0>"
            ],
            "image/png": "[encoded data removed]"
          },
          "metadata": {}
        },
        {
          "output_type": "stream",
          "name": "stdout",
          "text": [
            "Error energy:  2737830.760827774\n",
            "Error energy for K = 0:  10022785.089375002\n",
            "Error reduction:  0.726839322961229\n",
            "Unitary Check:  False\n"
          ]
        },
        {
          "output_type": "display_data",
          "data": {
            "text/plain": [
              "<PIL.Image.Image image mode=L size=92x112 at 0x7F674503E890>"
            ],
            "image/png": "[encoded data removed]"
          },
          "metadata": {}
        },
        {
          "output_type": "display_data",
          "data": {
            "text/plain": [
              "<PIL.Image.Image image mode=L size=92x112 at 0x7F674503ED90>"
            ],
            "image/png": "[encoded data removed]"
          },
          "metadata": {}
        },
        {
          "output_type": "stream",
          "name": "stdout",
          "text": [
            "Error energy:  9.470343072324966e-22\n",
            "Error energy for K = 0:  10022785.089375002\n",
            "Error reduction:  1.0\n"
          ]
        }
      ]
    },
    {
      "cell_type": "markdown",
      "source": [
        "# Section 2.2"
      ],
      "metadata": {
        "id": "mRfEHWAy3Y-k"
      }
    },
    {
      "cell_type": "code",
      "source": [
        "Ks_list = list(range(1, 20))\n",
        "Ks = [] \n",
        "\n",
        "for K in Ks_list:\n",
        "  eig_obj = K_eigenvectors(sigma, K)\n",
        "  K_eig = eig_obj.solve()\n",
        "\n",
        "  og_face = faces[:,:,face_idx]\n",
        "\n",
        "  eigendec_obj = EigenfaceDecomposition(og_face, mu, K_eig)\n",
        "  coefficients = eigendec_obj.solve()\n",
        "\n",
        "  recon_obj = Reconstruction(mu, K_eig, coefficients)\n",
        "  recon_face = recon_obj.solve()\n",
        "  energy_error_norm = np.linalg.norm(og_face - recon_face)\n",
        "  energy_of_error = (energy_error_norm)**2 \n",
        "  K0_norm = np.linalg.norm(og_face - mu)\n",
        "  K0_error =  (K0_norm)**2\n",
        "  error_reduction = ((K0_error-energy_of_error)/K0_error)\n",
        "  Ks.append(error_reduction) \n",
        "plt.figure()\n",
        "plt.grid(True)\n",
        "plt.plot(Ks_list, Ks)\n",
        "plt.title('Number of eigenfaces vs. Error reduction')\n",
        "plt.xlabel('Eigenfaces')\n",
        "plt.ylabel('Error reduction')\n",
        "plt.show()  "
      ],
      "metadata": {
        "id": "UMhJBeOf3Y-z",
        "colab": {
          "base_uri": "https://localhost:8080/",
          "height": 295
        },
        "outputId": "0a7d8f1f-3025-4af5-a8cb-217911a893d3"
      },
      "execution_count": null,
      "outputs": [
        {
          "output_type": "display_data",
          "data": {
            "text/plain": [
              "<Figure size 432x288 with 1 Axes>"
            ],
            "image/png": "[encoded data removed]"
          },
          "metadata": {
            "needs_background": "light"
          }
        }
      ]
    }
  ]
}