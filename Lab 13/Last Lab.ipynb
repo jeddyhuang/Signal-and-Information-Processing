{
  "nbformat": 4,
  "nbformat_minor": 0,
  "metadata": {
    "colab": {
      "name": "Last Lab ",
      "provenance": [],
      "collapsed_sections": []
    },
    "kernelspec": {
      "name": "python3",
      "display_name": "Python 3"
    },
    "language_info": {
      "name": "python"
    }
  },
  "cells": [
    {
      "cell_type": "markdown",
      "source": [
        "# Imports\n"
      ],
      "metadata": {
        "id": "vxrlFikYlUQo"
      }
    },
    {
      "cell_type": "code",
      "source": [
        "import numpy as np\n",
        "import cmath\n",
        "import matplotlib.pyplot as plt\n",
        "import matplotlib.image as mpimg \n",
        "from scipy.fft import dct, idct\n",
        "import scipy.sparse.linalg\n",
        "import numpy as np\n",
        "import pickle as pkl\n",
        "from PIL import Image as im \n",
        "import scipy.io as sio\n",
        "from numpy import *\n",
        "from numpy.ma.core import argmax\n",
        "from pylab import *\n",
        "from numpy import linalg as LA\n",
        "from scipy.sparse.linalg import eigs\n",
        "from scipy.stats import stats\n",
        "import scipy.spatial.distance as ssd\n",
        "import statistics as statistics"
      ],
      "metadata": {
        "id": "4wJYgMEDlV-8"
      },
      "execution_count": null,
      "outputs": []
    },
    {
      "cell_type": "markdown",
      "source": [
        "# Import Data\n"
      ],
      "metadata": {
        "id": "bJyWtS08lxpJ"
      }
    },
    {
      "cell_type": "code",
      "source": [
        "!gdown https://ese224.seas.upenn.edu/wp-content/uploads/2021/04/lab13_data.zip\n",
        "!unzip -o lab13_data.zip\n",
        "mat = scipy.io.loadmat(\"geneNetwork_rawPCNCI.mat\") \n",
        "signalMutation = scipy.io.loadmat(\"signal_mutation.mat\")\n",
        "histology = scipy.io.loadmat(\"histology_subtype.mat\") "
      ],
      "metadata": {
        "colab": {
          "base_uri": "https://localhost:8080/"
        },
        "id": "z-6FgPHSl0Ip",
        "outputId": "193fc10a-9705-4aff-83df-884570f4d47c"
      },
      "execution_count": null,
      "outputs": [
        {
          "output_type": "stream",
          "name": "stdout",
          "text": [
            "Downloading...\n",
            "From: https://ese224.seas.upenn.edu/wp-content/uploads/2021/04/lab13_data.zip\n",
            "To: /content/lab13_data.zip\n",
            "\r  0% 0.00/113k [00:00<?, ?B/s]\r100% 113k/113k [00:00<00:00, 617kB/s]\r100% 113k/113k [00:00<00:00, 616kB/s]\n",
            "Archive:  lab13_data.zip\n",
            "  inflating: geneNetwork_rawPCNCI.mat  \n",
            "  inflating: histology_subtype.mat   \n",
            "  inflating: signal_mutation.mat     \n"
          ]
        }
      ]
    },
    {
      "cell_type": "markdown",
      "source": [
        "# Section 2.1"
      ],
      "metadata": {
        "id": "DilEkuqAvEHw"
      }
    },
    {
      "cell_type": "code",
      "source": [
        "a = mat['geneNetwork_rawPCNCI'] \n",
        "matplotlib.pylab.spy(a) \n",
        "\n",
        "loops = np.sum(np.diagonal(a) != 0) \n",
        "print(\"Loops = \" + str(loops)) \n",
        "\n",
        "# Check symmetric (undirected) \n",
        "a_t = a.transpose() \n",
        "print(\"Symmetric: \" + str(np.array_equal(a, a_t))) \n",
        "\n",
        "\n",
        "# Check unweighted \n",
        "weighted = np.max((np.max(a)) > 1) \n",
        "print(\"Weighted: \" + str(weighted)) \n",
        "\n",
        "# Construct Laplacian (with self loops) \n",
        "D = np.diag(np.sum(a != 0 , 1))\n",
        "lap = D - a \n",
        "\n",
        "# Remove diagonals \n",
        "ad = a - np.diag(np.diag(a)) \n",
        "\n",
        "# Construct new Laplacian with diagonals removed \n",
        "D_new = np.diag(np.sum(ad != 0, 1))\n",
        "lap_new = D_new - ad \n",
        "\n",
        "print(\"Laplacian with and without self-loops are equal: \" + str(np.array_equal(lap, lap_new)))\n",
        "\n",
        "\n"
      ],
      "metadata": {
        "colab": {
          "base_uri": "https://localhost:8080/",
          "height": 338
        },
        "id": "zFECWgm6vFvk",
        "outputId": "6eedf940-264c-4182-8ec7-15ccf74e5ecd"
      },
      "execution_count": null,
      "outputs": [
        {
          "output_type": "stream",
          "name": "stdout",
          "text": [
            "Loops = 1525\n",
            "Symmetric: True\n",
            "Weighted: False\n",
            "Laplacian with and without self-loops are equal: True\n"
          ]
        },
        {
          "output_type": "display_data",
          "data": {
            "text/plain": [
              "<Figure size 432x288 with 1 Axes>"
            ],
            "image/png": "[encoded data removed]"
          },
          "metadata": {
            "needs_background": "light"
          }
        }
      ]
    },
    {
      "cell_type": "markdown",
      "source": [
        "# Section 2.2\n"
      ],
      "metadata": {
        "id": "lkTHOQXB3xUe"
      }
    },
    {
      "cell_type": "code",
      "source": [
        "# Get eigendecomposition of S = L\n",
        "S = lap \n",
        "eigenvalues_S, eigenvectors_S = LA.eig(lap) \n",
        "d = np.diag(eigenvalues_S) \n",
        "\n",
        "# Compute total variation energy \n",
        "# We know that the total variation energy of eigenvector v_k is simply its associated eigenvalues (from lecture) \n",
        "\n",
        "TVE = eigenvalues_S \n",
        "\n",
        "plt.plot(eigenvalues_S, TVE) \n",
        "plt.ylabel(\"Total Variation Energy\") \n",
        "plt.xlabel(\"Eigenvalues_S\") \n",
        "plt.title(\"Eigenvalues vs. Total Variation Energy\") \n",
        "plt.show() \n"
      ],
      "metadata": {
        "id": "eCsSRL2J3yq9",
        "colab": {
          "base_uri": "https://localhost:8080/",
          "height": 331
        },
        "outputId": "49cdf580-67db-472b-f373-75b97df6a18d"
      },
      "execution_count": null,
      "outputs": [
        {
          "output_type": "stream",
          "name": "stderr",
          "text": [
            "/usr/local/lib/python3.7/dist-packages/matplotlib/cbook/__init__.py:1317: ComplexWarning: Casting complex values to real discards the imaginary part\n",
            "  return np.asarray(x, float)\n"
          ]
        },
        {
          "output_type": "display_data",
          "data": {
            "text/plain": [
              "<Figure size 432x288 with 1 Axes>"
            ],
            "image/png": "[encoded data removed]"
          },
          "metadata": {
            "needs_background": "light"
          }
        }
      ]
    },
    {
      "cell_type": "markdown",
      "source": [
        "# Section 3.1 "
      ],
      "metadata": {
        "id": "SmCt2EwMMR4x"
      }
    },
    {
      "cell_type": "code",
      "source": [
        "mat_m = mat['geneNetwork_rawPCNCI'] \n",
        "print(mat_m.shape)\n",
        "signal_m = signalMutation['signal_mutation'] \n",
        "print(signal_m.shape)\n",
        "histology_m = histology['histology_subtype'] \n",
        "print(histology_m.shape)"
      ],
      "metadata": {
        "colab": {
          "base_uri": "https://localhost:8080/"
        },
        "id": "ZflAeVI_a_P0",
        "outputId": "f06f373d-679d-4567-d30f-a6a52e92cf83"
      },
      "execution_count": null,
      "outputs": [
        {
          "output_type": "stream",
          "name": "stdout",
          "text": [
            "(2458, 2458)\n",
            "(240, 2458)\n",
            "(240, 1)\n"
          ]
        }
      ]
    },
    {
      "cell_type": "code",
      "source": [
        "D = np.diag(np.sum(a != 0 , 0))\n",
        "lap = D - a \n",
        "lap = lap.astype('F') \n",
        "print(D.shape) \n",
        "\n",
        "# Since almost all relevant information is from the first 10 eigenvalues \n",
        "# (from Lecture 4/11), we can simply take the eigenvalues and their \n",
        "# corresponding eigenvectors to be representative \n",
        "[eigenvalues, eigenvectors] = eigs(mat_m, k=2458) \n",
        "H = eigenvectors.transpose() \n",
        "print(H.shape)"
      ],
      "metadata": {
        "id": "kb5nfelkMTN1",
        "colab": {
          "base_uri": "https://localhost:8080/"
        },
        "outputId": "ac69fd03-91bf-4f90-e75a-497ec88a555b"
      },
      "execution_count": null,
      "outputs": [
        {
          "output_type": "stream",
          "name": "stdout",
          "text": [
            "(2458, 2458)\n"
          ]
        },
        {
          "output_type": "stream",
          "name": "stderr",
          "text": [
            "/usr/local/lib/python3.7/dist-packages/scipy/sparse/linalg/eigen/arpack/arpack.py:1269: RuntimeWarning: k >= N - 1 for N * N square matrix. Attempting to use scipy.linalg.eig instead.\n",
            "  RuntimeWarning)\n"
          ]
        },
        {
          "output_type": "stream",
          "name": "stdout",
          "text": [
            "(2458, 2458)\n"
          ]
        }
      ]
    },
    {
      "cell_type": "code",
      "source": [
        "# SOLUTION 1 \n",
        "gft = np.zeros((240, 2458))\n",
        "for i in range(0,239): \n",
        "  gft[i, :] = (signal_m[i, :] * H[i, :]) \n",
        "hist1 = np.zeros(np.sum(histology_m == 1))\n",
        "hist2 = np.zeros(np.sum(histology_m == 2))\n",
        "k = 0\n",
        "j = 0\n",
        "# Find indices of hist1 and hist2 \n",
        "for i in range(0, (histology_m.shape[0] - 1)):\n",
        "  if (histology_m[i, :] == 1): \n",
        "    hist1[k] = i\n",
        "    k += 1 \n",
        "  elif(histology_m[i, :] == 2): \n",
        "    hist2[j] = i\n",
        "    j += 1 \n",
        "\n",
        "# Find the indicators \n",
        "indicator1 = np.zeros((hist1.shape[0], gft.shape[1]))\n",
        "indicator2 = np.zeros((hist2.shape[0], gft.shape[1]))\n",
        "\n",
        "for i in range(0, hist1.shape[0]): \n",
        "  indicator1[i, :] = gft[int((hist1[i])), :] \n",
        "\n",
        "for i in range(0, hist2.shape[0]): \n",
        "  indicator2[i, :] = gft[int((hist2[i])), :] \n",
        "mu1 = np.mean(indicator1, 0)\n",
        "mu2 = np.mean(indicator2, 0)\n",
        "\n",
        "n = np.sum(np.abs(gft), 0)\n",
        "res = abs(mu1-mu2) \n",
        "new = np.divide(res, n) \n",
        "print(new)\n",
        "\n",
        "# Plot DP(v_k) versus k for all frequency indicies k\n",
        "plt.plot(range(0, signal_m.shape[1]), np.abs(new))\n",
        "plt.ylabel(\"Residual\") \n",
        "plt.xlabel(\"Individual Genes\") \n",
        "plt.title(\"Individual gene residuals\") \n",
        "plt.show() "
      ],
      "metadata": {
        "colab": {
          "base_uri": "https://localhost:8080/",
          "height": 364
        },
        "id": "d159ZtASj2h5",
        "outputId": "87a83fad-5f60-4e42-9988-51255b8a9a7a"
      },
      "execution_count": null,
      "outputs": [
        {
          "output_type": "stream",
          "name": "stdout",
          "text": [
            "[0.00073551 0.00277156 0.00429124 ... 0.00406785 0.0003252         nan]\n"
          ]
        },
        {
          "output_type": "stream",
          "name": "stderr",
          "text": [
            "/usr/local/lib/python3.7/dist-packages/ipykernel_launcher.py:4: ComplexWarning: Casting complex values to real discards the imaginary part\n",
            "  after removing the cwd from sys.path.\n",
            "/usr/local/lib/python3.7/dist-packages/ipykernel_launcher.py:32: RuntimeWarning: invalid value encountered in true_divide\n"
          ]
        },
        {
          "output_type": "display_data",
          "data": {
            "text/plain": [
              "<Figure size 432x288 with 1 Axes>"
            ],
            "image/png": "[encoded data removed]"
          },
          "metadata": {
            "needs_background": "light"
          }
        }
      ]
    },
    {
      "cell_type": "markdown",
      "source": [
        "# Section 3.2 "
      ],
      "metadata": {
        "id": "dB6oT7eEiu9t"
      }
    },
    {
      "cell_type": "code",
      "source": [
        "filtered_data = (np.abs(new))[~np.isnan(np.abs(new))]\n",
        "plt.boxplot(filtered_data) "
      ],
      "metadata": {
        "colab": {
          "base_uri": "https://localhost:8080/",
          "height": 404
        },
        "id": "qCCR_dp_iya2",
        "outputId": "aee763cc-f5f5-4bc9-abb8-da1abbe7857d"
      },
      "execution_count": null,
      "outputs": [
        {
          "output_type": "execute_result",
          "data": {
            "text/plain": [
              "{'boxes': [<matplotlib.lines.Line2D at 0x7f16526a0450>],\n",
              " 'caps': [<matplotlib.lines.Line2D at 0x7f16526a6490>,\n",
              "  <matplotlib.lines.Line2D at 0x7f16526a69d0>],\n",
              " 'fliers': [<matplotlib.lines.Line2D at 0x7f16526ae4d0>],\n",
              " 'means': [],\n",
              " 'medians': [<matplotlib.lines.Line2D at 0x7f16526a6f50>],\n",
              " 'whiskers': [<matplotlib.lines.Line2D at 0x7f16526a09d0>,\n",
              "  <matplotlib.lines.Line2D at 0x7f16526a0f10>]}"
            ]
          },
          "metadata": {},
          "execution_count": 12
        },
        {
          "output_type": "display_data",
          "data": {
            "text/plain": [
              "<Figure size 432x288 with 1 Axes>"
            ],
            "image/png": "[encoded data removed]"
          },
          "metadata": {
            "needs_background": "light"
          }
        }
      ]
    },
    {
      "cell_type": "markdown",
      "source": [
        "# Section 4.1"
      ],
      "metadata": {
        "id": "fWsR6I-a8m_E"
      }
    },
    {
      "cell_type": "code",
      "source": [
        "class nearest_neighbors:\n",
        "  def __init__(self, Z, y, k):\n",
        "    self.Z = Z\n",
        "    self.y = y\n",
        "    self.k = k\n",
        "\n",
        "  def solve(self):\n",
        "    d = ssd.squareform(ssd.pdist(self.Z, 'euclidean'))\n",
        "    nn = d.argsort(axis=0)\n",
        "    nn_label = self.y[nn[1:(self.k+1), :]]\n",
        "    nn_label = nn_label.T\n",
        "    nn_label = nn_label[0]\n",
        "    prediction = np.zeros(len(nn_label))\n",
        "    for i in range(len(nn_label)):\n",
        "      prediction[i] = stats.mode(nn_label[i]).mode[0]\n",
        "    counter = 0\n",
        "    for i in range(len(nn_label)):\n",
        "      if prediction[i] == self.y[i][0]:\n",
        "        counter += 1\n",
        "    return counter / len(prediction)"
      ],
      "metadata": {
        "id": "0KWGMvxt8pV7"
      },
      "execution_count": null,
      "outputs": []
    },
    {
      "cell_type": "code",
      "source": [
        "if __name__ == '__main__':\n",
        "  list_of_ks = range(1, 10)\n",
        "  accuracies = [] \n",
        "  for k in list_of_ks:\n",
        "    neighbors = nearest_neighbors(signal_m, histology_m, k)\n",
        "    accuracies = accuracies + [neighbors.solve()]\n",
        "    print(k, \"nearest neighbors, Accuracy:\", neighbors.solve())\n",
        "\n",
        "plt.scatter(list_of_ks, accuracies) \n",
        "plt.ylabel(\"Accuracy\") \n",
        "plt.xlabel(\"Number of nearest neighbors\") \n",
        "plt.title(\"Nearest Neighbors Accuracies\") \n",
        "plt.show() \n"
      ],
      "metadata": {
        "colab": {
          "base_uri": "https://localhost:8080/",
          "height": 451
        },
        "id": "kHzVzpK_ElSO",
        "outputId": "9eb8670b-5f89-47dc-a2d9-c9010ced4275"
      },
      "execution_count": null,
      "outputs": [
        {
          "output_type": "stream",
          "name": "stdout",
          "text": [
            "1 nearest neighbors, Accuracy: 0.8375\n",
            "2 nearest neighbors, Accuracy: 0.8\n",
            "3 nearest neighbors, Accuracy: 0.875\n",
            "4 nearest neighbors, Accuracy: 0.8875\n",
            "5 nearest neighbors, Accuracy: 0.8791666666666667\n",
            "6 nearest neighbors, Accuracy: 0.9\n",
            "7 nearest neighbors, Accuracy: 0.8708333333333333\n",
            "8 nearest neighbors, Accuracy: 0.8875\n",
            "9 nearest neighbors, Accuracy: 0.8541666666666666\n"
          ]
        },
        {
          "output_type": "display_data",
          "data": {
            "text/plain": [
              "<Figure size 432x288 with 1 Axes>"
            ],
            "image/png": "[encoded data removed]"
          },
          "metadata": {
            "needs_background": "light"
          }
        }
      ]
    },
    {
      "cell_type": "markdown",
      "source": [
        "# Section 4.2"
      ],
      "metadata": {
        "id": "t7kaBuV44-eO"
      }
    },
    {
      "cell_type": "code",
      "source": [
        "# Evaluate DP using all the eigenvectors\n",
        "# Iterate through collection to find eigenvector with biggest DP \n",
        "# If k = 1 and v1 gives biggest eigenvector, then H(1) = 1--from 0 to N\n",
        "\n",
        "gft = np.zeros((240, 2458))\n",
        "for i in range(0,239): \n",
        "  gft[i, :] = (signal_m[i, :] * H[i, :]) \n",
        "hist1 = np.zeros(np.sum(histology_m == 1))\n",
        "hist2 = np.zeros(np.sum(histology_m == 2))\n",
        "k = 0\n",
        "j = 0\n",
        "# Find indices of hist1 and hist2 \n",
        "for i in range(0, (histology_m.shape[0] - 1)):\n",
        "  if (histology_m[i, :] == 1): \n",
        "    hist1[k] = i\n",
        "    k += 1 \n",
        "  elif(histology_m[i, :] == 2): \n",
        "    hist2[j] = i\n",
        "    j += 1 \n",
        "\n",
        "# Find the indicators \n",
        "indicator1 = np.zeros((hist1.shape[0], gft.shape[1]))\n",
        "indicator2 = np.zeros((hist2.shape[0], gft.shape[1]))\n",
        "\n",
        "for i in range(0, hist1.shape[0]): \n",
        "  indicator1[i, :] = gft[int((hist1[i])), :] \n",
        "\n",
        "for i in range(0, hist2.shape[0]): \n",
        "  indicator2[i, :] = gft[int((hist2[i])), :] \n",
        "mu1 = np.mean(indicator1, 0)\n",
        "mu2 = np.mean(indicator2, 0)\n",
        "\n",
        "n = np.sum(np.abs(gft), 0)\n",
        "res = abs(mu1-mu2)\n",
        "new = np.divide(res, n) \n",
        "print(new)\n",
        "\n",
        "# Plot DP(v_k) versus k for all frequency indicies k\n",
        "plt.plot(range(0, signal_m.shape[1]), np.abs(new))\n",
        "plt.ylabel(\"Residual\") \n",
        "plt.xlabel(\"Individual Genes\") \n",
        "plt.title(\"Individual gene residuals\") \n",
        "plt.show() \n",
        "\n",
        "if __name__ == '__main__':\n",
        "  list_of_ks = [1, 3, 5, 7]\n",
        "  filter_H = []\n",
        "  for i in range(len(new)):\n",
        "    if (np.argmax(new[i]) == i):\n",
        "      filter_H.append(1)\n",
        "    else:\n",
        "      filter_H.append(0) \n",
        "  accuracies = []\n",
        "  for k in list_of_ks:\n",
        "    temp = filter_H * signal_m\n",
        "    print(temp)\n",
        "    neighbors = nearest_neighbors(temp, histology_m, k)\n",
        "    accuracies = accuracies + [neighbors.solve()]\n",
        "    print(k, \"nearest neighbors, Accuracy:\", neighbors.solve())\n",
        "\n",
        "  plt.scatter(list_of_ks, accuracies) \n",
        "  plt.ylabel(\"Accuracy\") \n",
        "  plt.xlabel(\"Number of nearest neighbors\") \n",
        "  plt.title(\"Nearest Neighbors Accuracies\") \n",
        "  plt.show() "
      ],
      "metadata": {
        "id": "lvUZr_M8dLL7",
        "colab": {
          "base_uri": "https://localhost:8080/",
          "height": 1000
        },
        "outputId": "2ba20910-8f29-42de-f028-edcf9cb20158"
      },
      "execution_count": null,
      "outputs": [
        {
          "output_type": "stream",
          "name": "stdout",
          "text": [
            "[0.00073551 0.00277156 0.00429124 ... 0.00406785 0.0003252         nan]\n"
          ]
        },
        {
          "output_type": "stream",
          "name": "stderr",
          "text": [
            "/usr/local/lib/python3.7/dist-packages/ipykernel_launcher.py:7: ComplexWarning: Casting complex values to real discards the imaginary part\n",
            "  import sys\n",
            "/usr/local/lib/python3.7/dist-packages/ipykernel_launcher.py:35: RuntimeWarning: invalid value encountered in true_divide\n"
          ]
        },
        {
          "output_type": "display_data",
          "data": {
            "text/plain": [
              "<Figure size 432x288 with 1 Axes>"
            ],
            "image/png": "[encoded data removed]"
          },
          "metadata": {
            "needs_background": "light"
          }
        },
        {
          "output_type": "stream",
          "name": "stdout",
          "text": [
            "[[0 0 0 ... 0 0 0]\n",
            " [0 0 0 ... 0 0 0]\n",
            " [0 0 0 ... 0 0 0]\n",
            " ...\n",
            " [0 0 0 ... 0 0 0]\n",
            " [0 0 0 ... 0 0 0]\n",
            " [0 0 0 ... 0 0 0]]\n",
            "1 nearest neighbors, Accuracy: 0.8166666666666667\n",
            "[[0 0 0 ... 0 0 0]\n",
            " [0 0 0 ... 0 0 0]\n",
            " [0 0 0 ... 0 0 0]\n",
            " ...\n",
            " [0 0 0 ... 0 0 0]\n",
            " [0 0 0 ... 0 0 0]\n",
            " [0 0 0 ... 0 0 0]]\n",
            "3 nearest neighbors, Accuracy: 0.8166666666666667\n",
            "[[0 0 0 ... 0 0 0]\n",
            " [0 0 0 ... 0 0 0]\n",
            " [0 0 0 ... 0 0 0]\n",
            " ...\n",
            " [0 0 0 ... 0 0 0]\n",
            " [0 0 0 ... 0 0 0]\n",
            " [0 0 0 ... 0 0 0]]\n",
            "5 nearest neighbors, Accuracy: 0.8166666666666667\n",
            "[[0 0 0 ... 0 0 0]\n",
            " [0 0 0 ... 0 0 0]\n",
            " [0 0 0 ... 0 0 0]\n",
            " ...\n",
            " [0 0 0 ... 0 0 0]\n",
            " [0 0 0 ... 0 0 0]\n",
            " [0 0 0 ... 0 0 0]]\n",
            "7 nearest neighbors, Accuracy: 0.8166666666666667\n"
          ]
        },
        {
          "output_type": "display_data",
          "data": {
            "text/plain": [
              "<Figure size 432x288 with 1 Axes>"
            ],
            "image/png": "[encoded data removed]"
          },
          "metadata": {
            "needs_background": "light"
          }
        }
      ]
    },
    {
      "cell_type": "code",
      "source": [
        "# Part 2 \n",
        "\n",
        "# Set filter value to 1 if DP(vk) > p\n",
        "\n",
        "if __name__ == '__main__':\n",
        "  list_of_ks = [1, 3, 5, 6, 7]\n",
        "  list_of_ps = [0.75, 0.8, 0.85, 0.9, 0.95]\n",
        "\n",
        "  filter_H1 = []    # for p = 0.75\n",
        "  filter_H2 = []    # for p = 0.8\n",
        "  filter_H3 = []    # for p = 0.85\n",
        "  filter_H4 = []    # for p = 0.9\n",
        "  filter_H5 = []    # for p = 0.95\n",
        "\n",
        "# first obtain the different graph filters for the different p-values\n",
        "  new_sorted = np.argsort(new)\n",
        "  for i in range(len(list_of_ps)):\n",
        "    cutoff = math.floor(len(new) * list_of_ps[i])\n",
        "    for j in range(len(new)):\n",
        "      if (list_of_ps[i] == 0.75):\n",
        "        if (new_sorted[j] > new_sorted[cutoff]):\n",
        "          filter_H1.append(1)\n",
        "        else:\n",
        "          filter_H1.append(0)\n",
        "      elif (list_of_ps[i] == 0.8):\n",
        "        if (new_sorted[j] > new_sorted[cutoff]):\n",
        "          filter_H2.append(1)\n",
        "        else:\n",
        "          filter_H2.append(0)\n",
        "      elif (list_of_ps[i] == 0.85):\n",
        "        if (new_sorted[j] > new_sorted[cutoff]):\n",
        "          filter_H3.append(1)\n",
        "        else: \n",
        "          filter_H3.append(0)\n",
        "      elif (list_of_ps[i] == 0.9):\n",
        "        if (new_sorted[j] > new_sorted[cutoff]):\n",
        "          filter_H4.append(1)\n",
        "        else:\n",
        "          filter_H4.append(0)\n",
        "      else:\n",
        "        if (new_sorted[j] > new_sorted[cutoff]):\n",
        "          filter_H5.append(1)\n",
        "        else:\n",
        "          filter_H5.append(0) \n",
        "\n",
        "# define accuracy lists for the different p-values\n",
        "  accuracies_p1 = []\n",
        "  accuracies_p2 = []\n",
        "  accuracies_p3 = []\n",
        "  accuracies_p4 = []\n",
        "  accuracies_p5 = []\n",
        "\n",
        "  for k in list_of_ks:\n",
        "    for p in list_of_ps:\n",
        "      if (p == 0.75):\n",
        "        temp = filter_H1 * signal_m\n",
        "        neighbors = nearest_neighbors(temp, histology_m, k)\n",
        "        accuracies_p1 = accuracies_p1 + [neighbors.solve()]\n",
        "        print(k, \"nearest neighbors, Accuracy:\", p, \"p-value:\", neighbors.solve())\n",
        "      elif (p == 0.8):\n",
        "        temp = filter_H2 * signal_m\n",
        "        neighbors = nearest_neighbors(temp, histology_m, k)\n",
        "        accuracies_p2 = accuracies_p2 + [neighbors.solve()]\n",
        "        print(k, \"nearest neighbors, Accuracy:\", p, \"p-value:\", neighbors.solve())\n",
        "      elif (p == 0.85):\n",
        "        temp = filter_H2 * signal_m\n",
        "        neighbors = nearest_neighbors(temp, histology_m, k)\n",
        "        accuracies_p3 = accuracies_p3 + [neighbors.solve()]\n",
        "        print(k, \"nearest neighbors, Accuracy:\", p, \"p-value:\", neighbors.solve())\n",
        "      elif (p == 0.9):\n",
        "        temp = filter_H2 * signal_m\n",
        "        neighbors = nearest_neighbors(temp, histology_m, k)\n",
        "        accuracies_p4 = accuracies_p4 + [neighbors.solve()]\n",
        "        print(k, \"nearest neighbors, Accuracy:\", p, \"p-value:\", neighbors.solve())\n",
        "      else:\n",
        "        temp = filter_H2 * signal_m\n",
        "        neighbors = nearest_neighbors(temp, histology_m, k)\n",
        "        accuracies_p5 = accuracies_p5 + [neighbors.solve()]\n",
        "        print(k, \"nearest neighbors, Accuracy:\", p, \"p-value:\", neighbors.solve())\n",
        "\n",
        "  plt.scatter(list_of_ks, accuracies_p1) \n",
        "  plt.scatter(list_of_ks, accuracies_p2)\n",
        "  plt.scatter(list_of_ks, accuracies_p3)\n",
        "  plt.scatter(list_of_ks, accuracies_p4)\n",
        "  plt.scatter(list_of_ks, accuracies_p5)\n",
        "\n",
        "  plt.ylabel(\"Accuracy\") \n",
        "  plt.xlabel(\"Number of nearest neighbors\") \n",
        "  plt.title(\"Nearest Neighbors Accuracies\") \n",
        "  plt.show()   "
      ],
      "metadata": {
        "id": "zapFGy8af2VR",
        "colab": {
          "base_uri": "https://localhost:8080/",
          "height": 729
        },
        "outputId": "10e3d914-e606-4c31-d118-fb2ffa2dc303"
      },
      "execution_count": null,
      "outputs": [
        {
          "output_type": "stream",
          "name": "stdout",
          "text": [
            "1 nearest neighbors, Accuracy: 0.75 p-value: 0.8291666666666667\n",
            "1 nearest neighbors, Accuracy: 0.8 p-value: 0.8458333333333333\n",
            "1 nearest neighbors, Accuracy: 0.85 p-value: 0.8458333333333333\n",
            "1 nearest neighbors, Accuracy: 0.9 p-value: 0.8458333333333333\n",
            "1 nearest neighbors, Accuracy: 0.95 p-value: 0.8458333333333333\n",
            "3 nearest neighbors, Accuracy: 0.75 p-value: 0.8541666666666666\n",
            "3 nearest neighbors, Accuracy: 0.8 p-value: 0.8791666666666667\n",
            "3 nearest neighbors, Accuracy: 0.85 p-value: 0.8791666666666667\n",
            "3 nearest neighbors, Accuracy: 0.9 p-value: 0.8791666666666667\n",
            "3 nearest neighbors, Accuracy: 0.95 p-value: 0.8791666666666667\n",
            "5 nearest neighbors, Accuracy: 0.75 p-value: 0.8375\n",
            "5 nearest neighbors, Accuracy: 0.8 p-value: 0.9\n",
            "5 nearest neighbors, Accuracy: 0.85 p-value: 0.9\n",
            "5 nearest neighbors, Accuracy: 0.9 p-value: 0.9\n",
            "5 nearest neighbors, Accuracy: 0.95 p-value: 0.9\n",
            "6 nearest neighbors, Accuracy: 0.75 p-value: 0.8375\n",
            "6 nearest neighbors, Accuracy: 0.8 p-value: 0.8916666666666667\n",
            "6 nearest neighbors, Accuracy: 0.85 p-value: 0.8916666666666667\n",
            "6 nearest neighbors, Accuracy: 0.9 p-value: 0.8916666666666667\n",
            "6 nearest neighbors, Accuracy: 0.95 p-value: 0.8916666666666667\n",
            "7 nearest neighbors, Accuracy: 0.75 p-value: 0.8291666666666667\n",
            "7 nearest neighbors, Accuracy: 0.8 p-value: 0.8958333333333334\n",
            "7 nearest neighbors, Accuracy: 0.85 p-value: 0.8958333333333334\n",
            "7 nearest neighbors, Accuracy: 0.9 p-value: 0.8958333333333334\n",
            "7 nearest neighbors, Accuracy: 0.95 p-value: 0.8958333333333334\n"
          ]
        },
        {
          "output_type": "display_data",
          "data": {
            "text/plain": [
              "<Figure size 432x288 with 1 Axes>"
            ],
            "image/png": "[encoded data removed]"
          },
          "metadata": {
            "needs_background": "light"
          }
        }
      ]
    },
    {
      "cell_type": "code",
      "source": [
        ""
      ],
      "metadata": {
        "id": "uXMddckQUEJc"
      },
      "execution_count": null,
      "outputs": []
    }
  ]
}